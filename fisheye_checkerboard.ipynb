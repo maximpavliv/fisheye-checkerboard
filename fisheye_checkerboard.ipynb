{
 "cells": [
  {
   "cell_type": "markdown",
   "id": "36a741c4-c1fc-4458-baf2-6fd7299bfbdc",
   "metadata": {},
   "source": [
    "# Fisheye Checkerboard"
   ]
  },
  {
   "cell_type": "code",
   "execution_count": null,
   "id": "e03f2fca-0bb6-4792-bd15-d2e3b695f222",
   "metadata": {},
   "outputs": [],
   "source": [
    "import cv2"
   ]
  },
  {
   "cell_type": "code",
   "execution_count": null,
   "id": "085d88f8-890b-4946-ad84-51921ef68eb5",
   "metadata": {},
   "outputs": [],
   "source": [
    "print(\"Hello fisheye\")"
   ]
  },
  {
   "cell_type": "code",
   "execution_count": null,
   "id": "88fd1eac-1740-428a-9765-48dc53ab98e5",
   "metadata": {},
   "outputs": [],
   "source": [
    "import numpy as np\n",
    "import matplotlib.pyplot as plt\n",
    "\n",
    "# Define the line: r = r0 + t * v\n",
    "r0 = np.array([1, 2])  # Starting point (x0, y0)\n",
    "v = np.array([3, 1])   # Direction vector (vx, vy)\n",
    "\n",
    "t_values = np.linspace(-10, 10, 100)  # Range of t values\n",
    "line_points = np.array([r0 + t * v for t in t_values])  # Compute points on the line\n",
    "\n",
    "# Plot the line\n",
    "plt.plot(line_points[:, 0], line_points[:, 1], label=\"Line r = r0 + t*v\")\n",
    "plt.scatter(*r0, color='red', label=\"Point r0\")  # Mark the starting point\n",
    "plt.axhline(0, color='black', linewidth=0.5)\n",
    "plt.axvline(0, color='black', linewidth=0.5)\n",
    "plt.grid()\n",
    "plt.legend()\n",
    "plt.xlabel(\"X-axis\")\n",
    "plt.ylabel(\"Y-axis\")\n",
    "plt.title(\"Plot of the Line Defined by a Vector Equation\")\n",
    "plt.show()"
   ]
  },
  {
   "cell_type": "code",
   "execution_count": null,
   "id": "46b6745e-065f-4e1a-a7dd-663f274d3610",
   "metadata": {},
   "outputs": [],
   "source": [
    "radius = 400"
   ]
  },
  {
   "cell_type": "code",
   "execution_count": 4,
   "id": "80047d43-d71c-4730-9335-b7888e052fbe",
   "metadata": {},
   "outputs": [],
   "source": [
    "stride = 100\n",
    "k = 0"
   ]
  },
  {
   "cell_type": "code",
   "execution_count": null,
   "id": "3325263f-6268-49d8-a64e-bf7b15e6e6ca",
   "metadata": {},
   "outputs": [],
   "source": []
  }
 ],
 "metadata": {
  "kernelspec": {
   "display_name": "Python 3 (ipykernel)",
   "language": "python",
   "name": "python3"
  },
  "language_info": {
   "codemirror_mode": {
    "name": "ipython",
    "version": 3
   },
   "file_extension": ".py",
   "mimetype": "text/x-python",
   "name": "python",
   "nbconvert_exporter": "python",
   "pygments_lexer": "ipython3",
   "version": "3.10.16"
  }
 },
 "nbformat": 4,
 "nbformat_minor": 5
}
