{
 "cells": [
  {
   "cell_type": "markdown",
   "id": "36a741c4-c1fc-4458-baf2-6fd7299bfbdc",
   "metadata": {},
   "source": [
    "# Fisheye Checkerboard"
   ]
  },
  {
   "cell_type": "code",
   "execution_count": 1,
   "id": "e03f2fca-0bb6-4792-bd15-d2e3b695f222",
   "metadata": {},
   "outputs": [],
   "source": [
    "import cv2"
   ]
  },
  {
   "cell_type": "code",
   "execution_count": 2,
   "id": "085d88f8-890b-4946-ad84-51921ef68eb5",
   "metadata": {},
   "outputs": [
    {
     "name": "stdout",
     "output_type": "stream",
     "text": [
      "Hello fisheye\n"
     ]
    }
   ],
   "source": [
    "print(\"Hello fisheye\")"
   ]
  },
  {
   "cell_type": "code",
   "execution_count": null,
   "id": "88fd1eac-1740-428a-9765-48dc53ab98e5",
   "metadata": {},
   "outputs": [],
   "source": []
  }
 ],
 "metadata": {
  "kernelspec": {
   "display_name": "Python 3 (ipykernel)",
   "language": "python",
   "name": "python3"
  },
  "language_info": {
   "codemirror_mode": {
    "name": "ipython",
    "version": 3
   },
   "file_extension": ".py",
   "mimetype": "text/x-python",
   "name": "python",
   "nbconvert_exporter": "python",
   "pygments_lexer": "ipython3",
   "version": "3.10.13"
  }
 },
 "nbformat": 4,
 "nbformat_minor": 5
}
