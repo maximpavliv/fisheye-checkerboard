{
 "cells": [
  {
   "cell_type": "markdown",
   "id": "36a741c4-c1fc-4458-baf2-6fd7299bfbdc",
   "metadata": {},
   "source": [
    "# Fisheye Checkerboard"
   ]
  },
  {
   "cell_type": "code",
   "execution_count": null,
   "id": "46b6745e-065f-4e1a-a7dd-663f274d3610",
   "metadata": {},
   "outputs": [],
   "source": [
    "disk_diameter = 0.601 # [m]\n",
    "margin_width = 0.01 # [m]\n",
    "outline_width = 0.005 # [m]\n",
    "\n",
    "radius = disk_diameter/2 - margin_width - outline_width\n",
    "\n",
    "stride = (radius/4)*1.45\n",
    "\n",
    "k = -1/(4*radius**2)"
   ]
  },
  {
   "cell_type": "code",
   "execution_count": null,
   "id": "3325263f-6268-49d8-a64e-bf7b15e6e6ca",
   "metadata": {},
   "outputs": [],
   "source": [
    "import numpy as np\n",
    "\n",
    "class Line:\n",
    "    def __init__(self, direction: np.ndarray, offset: np.ndarray):\n",
    "        if not (isinstance(direction, np.ndarray) and isinstance(offset, np.ndarray)):\n",
    "            raise TypeError(\"Both arguments must be numpy arrays.\")\n",
    "        if direction.shape != (2,) or offset.shape != (2,):\n",
    "            raise ValueError(\"Each argument must be a numpy array of shape (2,).\")\n",
    "        \n",
    "        self.direction = direction\n",
    "        self.offset = offset\n",
    "\n",
    "    def __repr__(self):\n",
    "        return f\"Line(direction={self.direction}, offset={self.offset})\"\n",
    "\n",
    "    def get(self, t: float):\n",
    "        return t*self.direction + self.offset\n"
   ]
  },
  {
   "cell_type": "code",
   "execution_count": null,
   "id": "ce343417-340d-4291-8a35-18e3c57c4cf3",
   "metadata": {},
   "outputs": [],
   "source": [
    "lines = (\n",
    "    [Line(\n",
    "        direction=np.array([0, 1]), \n",
    "        offset=np.array([stride*i, 0])\n",
    "    ) for i in range(-5, 6)] + \n",
    "    [Line(\n",
    "        direction=np.array([1, 0]), \n",
    "        offset=np.array([0, stride*i])\n",
    "    ) for i in range(-5, 6)]\n",
    ")"
   ]
  },
  {
   "cell_type": "code",
   "execution_count": null,
   "id": "1df42d7c-1895-45b7-a357-70244069ec6b",
   "metadata": {},
   "outputs": [],
   "source": [
    "t_values = np.linspace(-5*stride, 5*stride, 100)\n",
    "lines_points = [np.array([line.get(t) for t in t_values]) for line in lines]"
   ]
  },
  {
   "cell_type": "code",
   "execution_count": null,
   "id": "ac78d751-8021-470b-8678-56c454d03874",
   "metadata": {},
   "outputs": [],
   "source": [
    "def distord_point(point: np.ndarray):\n",
    "    if not isinstance(point, np.ndarray):\n",
    "        raise TypeError(\"Point must be a numpy array.\")\n",
    "    if point.shape != (2,):\n",
    "        raise ValueError(\"Point must be a numpy array of shape (2,).\")\n",
    "    \n",
    "    r2 = np.dot(point, point)  # Equivalent to x^2 + y^2\n",
    "    factor = 1 / (1 - k*r2)\n",
    "\n",
    "    return factor * point  # Apply distortion factor to both x and y\n",
    "\n",
    "def distord_line(line: np.ndarray):\n",
    "    if not isinstance(line, np.ndarray):\n",
    "        raise TypeError(\"Line must be a numpy array.\")\n",
    "    return np.array([distord_point(point) for point in line])\n",
    "\n",
    "def distord_lines(lines: list[np.ndarray]):\n",
    "    if not isinstance(lines, list):\n",
    "        raise TypeError(\"Lines must be a list of lines.\")\n",
    "    return [distord_line(line) for line in lines]"
   ]
  },
  {
   "cell_type": "code",
   "execution_count": null,
   "id": "484c7489-c8f2-44c5-a452-7476020e9c71",
   "metadata": {},
   "outputs": [],
   "source": [
    "distorded_lines = distord_lines(lines_points)"
   ]
  },
  {
   "cell_type": "code",
   "execution_count": null,
   "id": "fc183dac-c3c0-45b7-9a57-964ee7fc739e",
   "metadata": {},
   "outputs": [],
   "source": [
    "import matplotlib.pyplot as plt\n",
    "# Plot the line\n",
    "for line_points in distorded_lines:\n",
    "    plt.plot(line_points[:, 0], line_points[:, 1], color=\"red\")\n",
    "\n",
    "plt.axhline(0, color='black', linewidth=0.5)\n",
    "plt.axvline(0, color='black', linewidth=0.5)\n",
    "plt.grid()\n",
    "plt.legend()\n",
    "plt.xlabel(\"X-axis\")\n",
    "plt.ylabel(\"Y-axis\")\n",
    "plt.title(\"Fisheye Checkerboard\")\n",
    "\n",
    "fig = plt.gcf()\n",
    "ax = fig.gca()\n",
    "\n",
    "ax.set_aspect('equal')\n",
    "\n",
    "circle1 = plt.Circle((0, 0), radius, color='b')\n",
    "ax.add_patch(circle1)\n",
    "\n",
    "plt.show()"
   ]
  }
 ],
 "metadata": {
  "kernelspec": {
   "display_name": "Python 3 (ipykernel)",
   "language": "python",
   "name": "python3"
  },
  "language_info": {
   "codemirror_mode": {
    "name": "ipython",
    "version": 3
   },
   "file_extension": ".py",
   "mimetype": "text/x-python",
   "name": "python",
   "nbconvert_exporter": "python",
   "pygments_lexer": "ipython3",
   "version": "3.10.16"
  }
 },
 "nbformat": 4,
 "nbformat_minor": 5
}
